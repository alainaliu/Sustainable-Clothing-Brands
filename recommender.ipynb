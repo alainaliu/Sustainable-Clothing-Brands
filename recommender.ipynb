{
 "cells": [
  {
   "cell_type": "code",
   "execution_count": 6,
   "metadata": {},
   "outputs": [
    {
     "name": "stdout",
     "output_type": "stream",
     "text": [
      "Requirement already satisfied: pip in /Library/Frameworks/Python.framework/Versions/3.10/lib/python3.10/site-packages (23.3.2)\n",
      "Collecting pip\n",
      "  Downloading pip-24.0-py3-none-any.whl.metadata (3.6 kB)\n",
      "Downloading pip-24.0-py3-none-any.whl (2.1 MB)\n",
      "\u001b[2K   \u001b[90m━━━━━━━━━━━━━━━━━━━━━━━━━━━━━━━━━━━━━━━━\u001b[0m \u001b[32m2.1/2.1 MB\u001b[0m \u001b[31m7.6 MB/s\u001b[0m eta \u001b[36m0:00:00\u001b[0m00:01\u001b[0m00:01\u001b[0mm\n",
      "\u001b[?25hInstalling collected packages: pip\n",
      "  Attempting uninstall: pip\n",
      "    Found existing installation: pip 23.3.2\n",
      "    Uninstalling pip-23.3.2:\n",
      "      Successfully uninstalled pip-23.3.2\n",
      "\u001b[33m  WARNING: The scripts pip, pip3 and pip3.10 are installed in '/Library/Frameworks/Python.framework/Versions/3.10/bin' which is not on PATH.\n",
      "  Consider adding this directory to PATH or, if you prefer to suppress this warning, use --no-warn-script-location.\u001b[0m\u001b[33m\n",
      "\u001b[0mSuccessfully installed pip-24.0\n"
     ]
    }
   ],
   "source": [
    "#!pip3 install scikit-learn\n",
    "#!python3 -m pip install --upgrade pip"
   ]
  },
  {
   "cell_type": "code",
   "execution_count": 14,
   "metadata": {},
   "outputs": [
    {
     "data": {
      "text/html": [
       "<div>\n",
       "<style scoped>\n",
       "    .dataframe tbody tr th:only-of-type {\n",
       "        vertical-align: middle;\n",
       "    }\n",
       "\n",
       "    .dataframe tbody tr th {\n",
       "        vertical-align: top;\n",
       "    }\n",
       "\n",
       "    .dataframe thead th {\n",
       "        text-align: right;\n",
       "    }\n",
       "</style>\n",
       "<table border=\"1\" class=\"dataframe\">\n",
       "  <thead>\n",
       "    <tr style=\"text-align: right;\">\n",
       "      <th></th>\n",
       "      <th>store_name</th>\n",
       "      <th>item_name</th>\n",
       "      <th>price</th>\n",
       "      <th>key_terms</th>\n",
       "    </tr>\n",
       "  </thead>\n",
       "  <tbody>\n",
       "    <tr>\n",
       "      <th>0</th>\n",
       "      <td>store</td>\n",
       "      <td>black dress</td>\n",
       "      <td>100</td>\n",
       "      <td>[black, dress]</td>\n",
       "    </tr>\n",
       "    <tr>\n",
       "      <th>1</th>\n",
       "      <td>store</td>\n",
       "      <td>blue dress</td>\n",
       "      <td>100</td>\n",
       "      <td>[blue, dress]</td>\n",
       "    </tr>\n",
       "    <tr>\n",
       "      <th>2</th>\n",
       "      <td>store</td>\n",
       "      <td>white dress</td>\n",
       "      <td>100</td>\n",
       "      <td>[white, dress]</td>\n",
       "    </tr>\n",
       "    <tr>\n",
       "      <th>3</th>\n",
       "      <td>store</td>\n",
       "      <td>black tank top</td>\n",
       "      <td>30</td>\n",
       "      <td>[black, tank top]</td>\n",
       "    </tr>\n",
       "    <tr>\n",
       "      <th>4</th>\n",
       "      <td>store</td>\n",
       "      <td>blue tank top</td>\n",
       "      <td>30</td>\n",
       "      <td>[blue, tank top]</td>\n",
       "    </tr>\n",
       "    <tr>\n",
       "      <th>5</th>\n",
       "      <td>store</td>\n",
       "      <td>white tank top</td>\n",
       "      <td>30</td>\n",
       "      <td>[white, tank top]</td>\n",
       "    </tr>\n",
       "    <tr>\n",
       "      <th>6</th>\n",
       "      <td>store</td>\n",
       "      <td>black jacket</td>\n",
       "      <td>120</td>\n",
       "      <td>[black, jacket]</td>\n",
       "    </tr>\n",
       "    <tr>\n",
       "      <th>7</th>\n",
       "      <td>store</td>\n",
       "      <td>blue jacket</td>\n",
       "      <td>120</td>\n",
       "      <td>[blue, jacket]</td>\n",
       "    </tr>\n",
       "    <tr>\n",
       "      <th>8</th>\n",
       "      <td>store</td>\n",
       "      <td>white jacket</td>\n",
       "      <td>120</td>\n",
       "      <td>[white, jacket]</td>\n",
       "    </tr>\n",
       "    <tr>\n",
       "      <th>9</th>\n",
       "      <td>store</td>\n",
       "      <td>brown jacket</td>\n",
       "      <td>120</td>\n",
       "      <td>[brown, jacket]</td>\n",
       "    </tr>\n",
       "  </tbody>\n",
       "</table>\n",
       "</div>"
      ],
      "text/plain": [
       "  store_name       item_name  price          key_terms\n",
       "0      store     black dress    100     [black, dress]\n",
       "1      store      blue dress    100      [blue, dress]\n",
       "2      store     white dress    100     [white, dress]\n",
       "3      store  black tank top     30  [black, tank top]\n",
       "4      store   blue tank top     30   [blue, tank top]\n",
       "5      store  white tank top     30  [white, tank top]\n",
       "6      store    black jacket    120    [black, jacket]\n",
       "7      store     blue jacket    120     [blue, jacket]\n",
       "8      store    white jacket    120    [white, jacket]\n",
       "9      store    brown jacket    120    [brown, jacket]"
      ]
     },
     "execution_count": 14,
     "metadata": {},
     "output_type": "execute_result"
    }
   ],
   "source": [
    "import pandas as pd\n",
    "# creating a test dataset\n",
    "store_dict = {'store_name': ['store', 'store', 'store', 'store', 'store', 'store', 'store', 'store', 'store', 'store'],\n",
    "             'item_name': ['black dress', 'blue dress', 'white dress', 'black tank top', 'blue tank top', 'white tank top', 'black jacket', 'blue jacket', 'white jacket', 'brown jacket'],\n",
    "             'price': [100, 100, 100, 30, 30, 30, 120, 120, 120, 120],\n",
    "             'key_terms': [['black', 'dress'], ['blue', 'dress'], ['white', 'dress'], ['black', 'tank top'], ['blue', 'tank top'], ['white', 'tank top'], ['black', 'jacket'], ['blue', 'jacket'], ['white', 'jacket'], ['brown', 'jacket']]}\n",
    "store = pd.DataFrame(data=store_dict)\n",
    "store"
   ]
  },
  {
   "cell_type": "code",
   "execution_count": 15,
   "metadata": {},
   "outputs": [],
   "source": [
    "from sklearn.feature_extraction.text import TfidfVectorizer\n",
    "from sklearn.metrics.pairwise import cosine_similarity"
   ]
  },
  {
   "cell_type": "code",
   "execution_count": 16,
   "metadata": {},
   "outputs": [],
   "source": [
    "# Assuming 'data' is your preprocessed dataset with a column 'key_terms'\n",
    "# Convert key terms to TF-IDF vectors\n",
    "tfidf_vectorizer = TfidfVectorizer()\n",
    "tfidf_matrix = tfidf_vectorizer.fit_transform(store['key_terms'].apply(lambda x: ' '.join(x)))"
   ]
  },
  {
   "cell_type": "code",
   "execution_count": 21,
   "metadata": {},
   "outputs": [],
   "source": [
    "# Function to recommend items based on input query\n",
    "def recommend_items(query, tfidf_matrix, tfidf_vectorizer, data):\n",
    "    query_vec = tfidf_vectorizer.transform([query])\n",
    "    cosine_similarities = cosine_similarity(query_vec, tfidf_matrix)\n",
    "    sim_scores = list(enumerate(cosine_similarities[0]))\n",
    "    sim_scores = sorted(sim_scores, key=lambda x: x[1], reverse=True)\n",
    "    top_similar_indices = [i[0] for i in sim_scores[:3]]  # Top 3 similar items\n",
    "    return data.iloc[top_similar_indices]['item_name'].tolist()"
   ]
  },
  {
   "cell_type": "code",
   "execution_count": 22,
   "metadata": {},
   "outputs": [
    {
     "name": "stdout",
     "output_type": "stream",
     "text": [
      "['black dress', 'black jacket', 'blue dress']\n"
     ]
    }
   ],
   "source": [
    "# Example usage\n",
    "user_query = \"black lace dress\"\n",
    "recommended_items = recommend_items(user_query, tfidf_matrix, tfidf_vectorizer, store)\n",
    "print(recommended_items)"
   ]
  }
 ],
 "metadata": {
  "kernelspec": {
   "display_name": "Python 3",
   "language": "python",
   "name": "python3"
  },
  "language_info": {
   "codemirror_mode": {
    "name": "ipython",
    "version": 3
   },
   "file_extension": ".py",
   "mimetype": "text/x-python",
   "name": "python",
   "nbconvert_exporter": "python",
   "pygments_lexer": "ipython3",
   "version": "3.10.2"
  }
 },
 "nbformat": 4,
 "nbformat_minor": 2
}
